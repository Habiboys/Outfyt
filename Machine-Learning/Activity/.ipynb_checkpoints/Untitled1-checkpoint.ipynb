{
 "cells": [
  {
   "cell_type": "code",
   "execution_count": 86,
   "id": "f77b3d9f-c258-4a0d-ac8c-35775c2bc744",
   "metadata": {},
   "outputs": [],
   "source": [
    "import pandas as pd\n",
    "import tensorflow as tf\n",
    "from sklearn.model_selection import train_test_split\n",
    "from sklearn.feature_extraction.text import CountVectorizer\n",
    "from sklearn.preprocessing import LabelEncoder\n",
    "from tensorflow.keras.models import Sequential\n",
    "from tensorflow.keras.layers import Dense, Dropout\n",
    "from tensorflow.keras.utils import to_categorical\n",
    "from tensorflow.keras.layers import BatchNormalization\n",
    "from tensorflow.keras.callbacks import EarlyStopping"
   ]
  },
  {
   "cell_type": "code",
   "execution_count": 87,
   "id": "44163383-4a21-4972-8024-bbc7663769e8",
   "metadata": {},
   "outputs": [
    {
     "data": {
      "text/html": [
       "<div>\n",
       "<style scoped>\n",
       "    .dataframe tbody tr th:only-of-type {\n",
       "        vertical-align: middle;\n",
       "    }\n",
       "\n",
       "    .dataframe tbody tr th {\n",
       "        vertical-align: top;\n",
       "    }\n",
       "\n",
       "    .dataframe thead th {\n",
       "        text-align: right;\n",
       "    }\n",
       "</style>\n",
       "<table border=\"1\" class=\"dataframe\">\n",
       "  <thead>\n",
       "    <tr style=\"text-align: right;\">\n",
       "      <th></th>\n",
       "      <th>Activity Title</th>\n",
       "      <th>Category</th>\n",
       "    </tr>\n",
       "  </thead>\n",
       "  <tbody>\n",
       "    <tr>\n",
       "      <th>0</th>\n",
       "      <td>Jam session with simple percussion instruments</td>\n",
       "      <td>casual</td>\n",
       "    </tr>\n",
       "    <tr>\n",
       "      <th>1</th>\n",
       "      <td>Handloom weaving demonstration</td>\n",
       "      <td>ethnic</td>\n",
       "    </tr>\n",
       "    <tr>\n",
       "      <th>2</th>\n",
       "      <td>Panel on balancing creativity and productivity</td>\n",
       "      <td>smart casual</td>\n",
       "    </tr>\n",
       "    <tr>\n",
       "      <th>3</th>\n",
       "      <td>Appreciation of traditional calligraphy styles</td>\n",
       "      <td>ethnic</td>\n",
       "    </tr>\n",
       "    <tr>\n",
       "      <th>4</th>\n",
       "      <td>Folk music learning session</td>\n",
       "      <td>ethnic</td>\n",
       "    </tr>\n",
       "  </tbody>\n",
       "</table>\n",
       "</div>"
      ],
      "text/plain": [
       "                                   Activity Title      Category\n",
       "0  Jam session with simple percussion instruments        casual\n",
       "1                  Handloom weaving demonstration        ethnic\n",
       "2  Panel on balancing creativity and productivity  smart casual\n",
       "3  Appreciation of traditional calligraphy styles        ethnic\n",
       "4                     Folk music learning session        ethnic"
      ]
     },
     "execution_count": 87,
     "metadata": {},
     "output_type": "execute_result"
    }
   ],
   "source": [
    "# Load the dataset\n",
    "df = pd.read_excel('Activity_Dataset.xlsx')\n",
    "df.head()"
   ]
  },
  {
   "cell_type": "code",
   "execution_count": 88,
   "id": "14b44ce9-bded-4564-aabe-adc41bcfe21f",
   "metadata": {},
   "outputs": [],
   "source": [
    "# Separate features (Activity Title) and labels (Category)\n",
    "X = df['Activity Title']\n",
    "y = df['Category']\n",
    "\n",
    "# Vectorize the text data\n",
    "vectorizer = CountVectorizer(stop_words='english')\n",
    "X_vectorized = vectorizer.fit_transform(X)\n",
    "\n",
    "# Encode labels\n",
    "label_encoder = LabelEncoder()\n",
    "y_encoded = label_encoder.fit_transform(y)\n",
    "y_categorical = to_categorical(y_encoded)"
   ]
  },
  {
   "cell_type": "code",
   "execution_count": 89,
   "id": "20442c86-71d3-4d33-a8ed-d052d369c0c5",
   "metadata": {},
   "outputs": [],
   "source": [
    "# Split the dataset\n",
    "X_train, X_temp, y_train, y_temp = train_test_split(\n",
    "    X_vectorized.toarray(), y_categorical, test_size=0.4, random_state=42\n",
    ")  # 60% training data\n",
    "\n",
    "X_valid, X_test, y_valid, y_test = train_test_split(\n",
    "    X_temp, y_temp, test_size=0.5, random_state=42\n",
    ")  # 20% validation and 20% testing data"
   ]
  },
  {
   "cell_type": "code",
   "execution_count": 90,
   "id": "381a3c86-bf16-4305-8388-e10d3aabdd66",
   "metadata": {},
   "outputs": [
    {
     "name": "stderr",
     "output_type": "stream",
     "text": [
      "C:\\anaconda3\\Lib\\site-packages\\keras\\src\\layers\\core\\dense.py:87: UserWarning: Do not pass an `input_shape`/`input_dim` argument to a layer. When using Sequential models, prefer using an `Input(shape)` object as the first layer in the model instead.\n",
      "  super().__init__(activity_regularizer=activity_regularizer, **kwargs)\n"
     ]
    }
   ],
   "source": [
    "# Neural Network model \n",
    "model = Sequential([\n",
    "    Dense(256, activation='relu', input_shape=(X_train.shape[1],)),\n",
    "    BatchNormalization(),\n",
    "    Dropout(0.5),\n",
    "    Dense(128, activation='relu'),\n",
    "    BatchNormalization(),\n",
    "    Dropout(0.5),\n",
    "    Dense(64, activation='relu'),\n",
    "    BatchNormalization(),\n",
    "    Dropout(0.5),\n",
    "    Dense(y_categorical.shape[1], activation='softmax')  # Output layer\n",
    "])\n",
    "\n",
    "# Compile the model\n",
    "model.compile(optimizer='adam', loss='categorical_crossentropy', metrics=['accuracy'])"
   ]
  },
  {
   "cell_type": "code",
   "execution_count": 91,
   "id": "70af8511-9154-4c52-a4e6-c28a72e90678",
   "metadata": {},
   "outputs": [],
   "source": [
    "early_stopping = EarlyStopping(monitor='val_loss', patience=5, restore_best_weights=True)"
   ]
  },
  {
   "cell_type": "code",
   "execution_count": 92,
   "id": "f2498acd-3618-42e4-b268-26d268987be6",
   "metadata": {},
   "outputs": [
    {
     "name": "stdout",
     "output_type": "stream",
     "text": [
      "Epoch 1/50\n",
      "\u001b[1m46/46\u001b[0m \u001b[32m━━━━━━━━━━━━━━━━━━━━\u001b[0m\u001b[37m\u001b[0m \u001b[1m7s\u001b[0m 19ms/step - accuracy: 0.1745 - loss: 3.0351 - val_accuracy: 0.1546 - val_loss: 1.9231\n",
      "Epoch 2/50\n",
      "\u001b[1m46/46\u001b[0m \u001b[32m━━━━━━━━━━━━━━━━━━━━\u001b[0m\u001b[37m\u001b[0m \u001b[1m0s\u001b[0m 8ms/step - accuracy: 0.2397 - loss: 2.3603 - val_accuracy: 0.2103 - val_loss: 1.8808\n",
      "Epoch 3/50\n",
      "\u001b[1m46/46\u001b[0m \u001b[32m━━━━━━━━━━━━━━━━━━━━\u001b[0m\u001b[37m\u001b[0m \u001b[1m0s\u001b[0m 8ms/step - accuracy: 0.3667 - loss: 1.8079 - val_accuracy: 0.2598 - val_loss: 1.8191\n",
      "Epoch 4/50\n",
      "\u001b[1m46/46\u001b[0m \u001b[32m━━━━━━━━━━━━━━━━━━━━\u001b[0m\u001b[37m\u001b[0m \u001b[1m0s\u001b[0m 7ms/step - accuracy: 0.4421 - loss: 1.5419 - val_accuracy: 0.3526 - val_loss: 1.7199\n",
      "Epoch 5/50\n",
      "\u001b[1m46/46\u001b[0m \u001b[32m━━━━━━━━━━━━━━━━━━━━\u001b[0m\u001b[37m\u001b[0m \u001b[1m0s\u001b[0m 8ms/step - accuracy: 0.5544 - loss: 1.2431 - val_accuracy: 0.5649 - val_loss: 1.5705\n",
      "Epoch 6/50\n",
      "\u001b[1m46/46\u001b[0m \u001b[32m━━━━━━━━━━━━━━━━━━━━\u001b[0m\u001b[37m\u001b[0m \u001b[1m0s\u001b[0m 8ms/step - accuracy: 0.6321 - loss: 1.0187 - val_accuracy: 0.6825 - val_loss: 1.3672\n",
      "Epoch 7/50\n",
      "\u001b[1m46/46\u001b[0m \u001b[32m━━━━━━━━━━━━━━━━━━━━\u001b[0m\u001b[37m\u001b[0m \u001b[1m0s\u001b[0m 9ms/step - accuracy: 0.7330 - loss: 0.8100 - val_accuracy: 0.7340 - val_loss: 1.1535\n",
      "Epoch 8/50\n",
      "\u001b[1m46/46\u001b[0m \u001b[32m━━━━━━━━━━━━━━━━━━━━\u001b[0m\u001b[37m\u001b[0m \u001b[1m0s\u001b[0m 8ms/step - accuracy: 0.7699 - loss: 0.6796 - val_accuracy: 0.7773 - val_loss: 0.9477\n",
      "Epoch 9/50\n",
      "\u001b[1m46/46\u001b[0m \u001b[32m━━━━━━━━━━━━━━━━━━━━\u001b[0m\u001b[37m\u001b[0m \u001b[1m0s\u001b[0m 8ms/step - accuracy: 0.7853 - loss: 0.6355 - val_accuracy: 0.8000 - val_loss: 0.7618\n",
      "Epoch 10/50\n",
      "\u001b[1m46/46\u001b[0m \u001b[32m━━━━━━━━━━━━━━━━━━━━\u001b[0m\u001b[37m\u001b[0m \u001b[1m0s\u001b[0m 8ms/step - accuracy: 0.8632 - loss: 0.4401 - val_accuracy: 0.8186 - val_loss: 0.6198\n",
      "Epoch 11/50\n",
      "\u001b[1m46/46\u001b[0m \u001b[32m━━━━━━━━━━━━━━━━━━━━\u001b[0m\u001b[37m\u001b[0m \u001b[1m0s\u001b[0m 8ms/step - accuracy: 0.8330 - loss: 0.4650 - val_accuracy: 0.8144 - val_loss: 0.5377\n",
      "Epoch 12/50\n",
      "\u001b[1m46/46\u001b[0m \u001b[32m━━━━━━━━━━━━━━━━━━━━\u001b[0m\u001b[37m\u001b[0m \u001b[1m0s\u001b[0m 8ms/step - accuracy: 0.8856 - loss: 0.3674 - val_accuracy: 0.8309 - val_loss: 0.4840\n",
      "Epoch 13/50\n",
      "\u001b[1m46/46\u001b[0m \u001b[32m━━━━━━━━━━━━━━━━━━━━\u001b[0m\u001b[37m\u001b[0m \u001b[1m0s\u001b[0m 8ms/step - accuracy: 0.8936 - loss: 0.3513 - val_accuracy: 0.8351 - val_loss: 0.4675\n",
      "Epoch 14/50\n",
      "\u001b[1m46/46\u001b[0m \u001b[32m━━━━━━━━━━━━━━━━━━━━\u001b[0m\u001b[37m\u001b[0m \u001b[1m0s\u001b[0m 8ms/step - accuracy: 0.9171 - loss: 0.2924 - val_accuracy: 0.8412 - val_loss: 0.4666\n",
      "Epoch 15/50\n",
      "\u001b[1m46/46\u001b[0m \u001b[32m━━━━━━━━━━━━━━━━━━━━\u001b[0m\u001b[37m\u001b[0m \u001b[1m0s\u001b[0m 8ms/step - accuracy: 0.9288 - loss: 0.2487 - val_accuracy: 0.8433 - val_loss: 0.4706\n",
      "Epoch 16/50\n",
      "\u001b[1m46/46\u001b[0m \u001b[32m━━━━━━━━━━━━━━━━━━━━\u001b[0m\u001b[37m\u001b[0m \u001b[1m0s\u001b[0m 8ms/step - accuracy: 0.9320 - loss: 0.2361 - val_accuracy: 0.8412 - val_loss: 0.4791\n",
      "Epoch 17/50\n",
      "\u001b[1m46/46\u001b[0m \u001b[32m━━━━━━━━━━━━━━━━━━━━\u001b[0m\u001b[37m\u001b[0m \u001b[1m0s\u001b[0m 8ms/step - accuracy: 0.9506 - loss: 0.1909 - val_accuracy: 0.8433 - val_loss: 0.4762\n",
      "Epoch 18/50\n",
      "\u001b[1m46/46\u001b[0m \u001b[32m━━━━━━━━━━━━━━━━━━━━\u001b[0m\u001b[37m\u001b[0m \u001b[1m0s\u001b[0m 8ms/step - accuracy: 0.9433 - loss: 0.1836 - val_accuracy: 0.8474 - val_loss: 0.4827\n",
      "Epoch 19/50\n",
      "\u001b[1m46/46\u001b[0m \u001b[32m━━━━━━━━━━━━━━━━━━━━\u001b[0m\u001b[37m\u001b[0m \u001b[1m0s\u001b[0m 8ms/step - accuracy: 0.9683 - loss: 0.1414 - val_accuracy: 0.8454 - val_loss: 0.4872\n"
     ]
    }
   ],
   "source": [
    "# Train the model\n",
    "history = model.fit(\n",
    "    X_train, y_train,\n",
    "    epochs=50,\n",
    "    batch_size=32,\n",
    "    validation_data=(X_valid, y_valid),\n",
    "    callbacks=[early_stopping],\n",
    "    verbose=1\n",
    ")"
   ]
  },
  {
   "cell_type": "code",
   "execution_count": 93,
   "id": "dbd6470b-3720-4d53-937a-2cd8cf05d809",
   "metadata": {},
   "outputs": [
    {
     "name": "stdout",
     "output_type": "stream",
     "text": [
      "Test Accuracy: 0.8518518805503845\n"
     ]
    }
   ],
   "source": [
    "# Evaluate the model on the test set\n",
    "test_loss, test_accuracy = model.evaluate(X_test, y_test, verbose=0)\n",
    "\n",
    "print(f'Test Accuracy: {test_accuracy}')"
   ]
  },
  {
   "cell_type": "code",
   "execution_count": 94,
   "id": "e09d3b19-04ce-4525-a8e5-6d2ff84103fb",
   "metadata": {},
   "outputs": [
    {
     "name": "stdout",
     "output_type": "stream",
     "text": [
      "\u001b[1m1/1\u001b[0m \u001b[32m━━━━━━━━━━━━━━━━━━━━\u001b[0m\u001b[37m\u001b[0m \u001b[1m0s\u001b[0m 217ms/step\n",
      "playing tennis with my friend : sports\n"
     ]
    }
   ],
   "source": [
    "# Function to predict the category from new input\n",
    "def predict_category(input_text):\n",
    "    # Transform the input text using the trained vectorizer\n",
    "    input_vectorized = vectorizer.transform([input_text])\n",
    "    \n",
    "    # Predict using the model\n",
    "    predictions = model.predict(input_vectorized.toarray())\n",
    "    \n",
    "    # Get the index of the category with the highest probability\n",
    "    predicted_index = predictions.argmax()\n",
    "    \n",
    "    # Convert the index to the category name using label_encoder\n",
    "    predicted_category = label_encoder.inverse_transform([predicted_index])[0]\n",
    "    \n",
    "    return predicted_category\n",
    "\n",
    "# prediction\n",
    "new_input = \"playing tennis with my friend\"\n",
    "predicted_category = predict_category(new_input)\n",
    "print(f\"{new_input} : {predicted_category}\")"
   ]
  },
  {
   "cell_type": "code",
   "execution_count": 95,
   "id": "5e3c0a86-d403-4609-8f0f-ae94ca56279e",
   "metadata": {},
   "outputs": [
    {
     "name": "stdout",
     "output_type": "stream",
     "text": [
      "INFO:tensorflow:Assets written to: saved_model\\assets\n"
     ]
    },
    {
     "name": "stderr",
     "output_type": "stream",
     "text": [
      "INFO:tensorflow:Assets written to: saved_model\\assets\n"
     ]
    },
    {
     "name": "stdout",
     "output_type": "stream",
     "text": [
      "Saved artifact at 'saved_model'. The following endpoints are available:\n",
      "\n",
      "* Endpoint 'serve'\n",
      "  args_0 (POSITIONAL_ONLY): TensorSpec(shape=(None, 1395), dtype=tf.float32, name='keras_tensor_84')\n",
      "Output Type:\n",
      "  TensorSpec(shape=(None, 7), dtype=tf.float32, name=None)\n",
      "Captures:\n",
      "  1949636343568: TensorSpec(shape=(), dtype=tf.resource, name=None)\n",
      "  1949636329744: TensorSpec(shape=(), dtype=tf.resource, name=None)\n",
      "  1947784296208: TensorSpec(shape=(), dtype=tf.resource, name=None)\n",
      "  1947784297744: TensorSpec(shape=(), dtype=tf.resource, name=None)\n",
      "  1947784296784: TensorSpec(shape=(), dtype=tf.resource, name=None)\n",
      "  1949596580944: TensorSpec(shape=(), dtype=tf.resource, name=None)\n",
      "  1949596580368: TensorSpec(shape=(), dtype=tf.resource, name=None)\n",
      "  1949641057168: TensorSpec(shape=(), dtype=tf.resource, name=None)\n",
      "  1949641054864: TensorSpec(shape=(), dtype=tf.resource, name=None)\n",
      "  1949604436240: TensorSpec(shape=(), dtype=tf.resource, name=None)\n",
      "  1949641060240: TensorSpec(shape=(), dtype=tf.resource, name=None)\n",
      "  1949641059088: TensorSpec(shape=(), dtype=tf.resource, name=None)\n",
      "  1949604435472: TensorSpec(shape=(), dtype=tf.resource, name=None)\n",
      "  1949604431632: TensorSpec(shape=(), dtype=tf.resource, name=None)\n",
      "  1949581600400: TensorSpec(shape=(), dtype=tf.resource, name=None)\n",
      "  1949581599248: TensorSpec(shape=(), dtype=tf.resource, name=None)\n",
      "  1949581603088: TensorSpec(shape=(), dtype=tf.resource, name=None)\n",
      "  1949604435856: TensorSpec(shape=(), dtype=tf.resource, name=None)\n",
      "  1949753239568: TensorSpec(shape=(), dtype=tf.resource, name=None)\n",
      "  1949753242640: TensorSpec(shape=(), dtype=tf.resource, name=None)\n"
     ]
    }
   ],
   "source": [
    "model.export(\"saved_model\")"
   ]
  },
  {
   "cell_type": "code",
   "execution_count": 97,
   "id": "25b8a466-6fbe-4582-a955-ca1e6291148b",
   "metadata": {},
   "outputs": [],
   "source": [
    "# Initialize the TFLite converter\n",
    "converter = tf.lite.TFLiteConverter.from_saved_model(\"saved_model\")\n",
    "\n",
    "# Convert to TFLite\n",
    "tflite_model = converter.convert()\n",
    "\n",
    "# Save the TFLite model\n",
    "with open(\"activity.tflite\", \"wb\") as f:\n",
    "    f.write(tflite_model)"
   ]
  },
  {
   "cell_type": "code",
   "execution_count": null,
   "id": "d83443cc-6cc6-4bf7-90dc-54d6390216a3",
   "metadata": {},
   "outputs": [],
   "source": []
  }
 ],
 "metadata": {
  "kernelspec": {
   "display_name": "Python 3 (ipykernel)",
   "language": "python",
   "name": "python3"
  },
  "language_info": {
   "codemirror_mode": {
    "name": "ipython",
    "version": 3
   },
   "file_extension": ".py",
   "mimetype": "text/x-python",
   "name": "python",
   "nbconvert_exporter": "python",
   "pygments_lexer": "ipython3",
   "version": "3.11.7"
  }
 },
 "nbformat": 4,
 "nbformat_minor": 5
}
